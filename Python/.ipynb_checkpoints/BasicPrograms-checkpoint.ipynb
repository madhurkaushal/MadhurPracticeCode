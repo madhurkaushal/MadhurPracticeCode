{
 "cells": [
  {
   "cell_type": "code",
   "execution_count": 4,
   "id": "b4712231",
   "metadata": {},
   "outputs": [
    {
     "name": "stdout",
     "output_type": "stream",
     "text": [
      "Enter first number : 4\n",
      "Enter second number: 5\n",
      "The sum of 4 and 5 is :  45\n"
     ]
    }
   ],
   "source": [
    "# Sum of two number \n",
    "a = input (\"Enter first number : \")\n",
    "b = input (\"Enter second number: \")\n",
    "c = int(a) + int (b) \n",
    "print (f\"The sum of {a} and {b} is : \" , c)"
   ]
  },
  {
   "cell_type": "code",
   "execution_count": null,
   "id": "29dfb5c1",
   "metadata": {},
   "outputs": [],
   "source": []
  }
 ],
 "metadata": {
  "kernelspec": {
   "display_name": "Python 3 (ipykernel)",
   "language": "python",
   "name": "python3"
  },
  "language_info": {
   "codemirror_mode": {
    "name": "ipython",
    "version": 3
   },
   "file_extension": ".py",
   "mimetype": "text/x-python",
   "name": "python",
   "nbconvert_exporter": "python",
   "pygments_lexer": "ipython3",
   "version": "3.10.12"
  }
 },
 "nbformat": 4,
 "nbformat_minor": 5
}
